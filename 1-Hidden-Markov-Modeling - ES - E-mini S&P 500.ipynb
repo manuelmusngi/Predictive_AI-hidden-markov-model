{
 "cells": [
  {
   "cell_type": "markdown",
   "id": "41013cb6",
   "metadata": {},
   "source": [
    "#### Hidden Markov Model and Market Regimes - ES E-mini S&P 500\n"
   ]
  },
  {
   "cell_type": "markdown",
   "id": "79d08ae7",
   "metadata": {},
   "source": [
    "####  Library Dependencies"
   ]
  },
  {
   "cell_type": "code",
   "execution_count": 1,
   "id": "a0b3e65c",
   "metadata": {},
   "outputs": [],
   "source": [
    "import pandas as pd\n",
    "import numpy as np\n",
    "import yfinance as yf\n",
    "import warnings\n",
    "import logging\n",
    "import itertools\n",
    "import matplotlib.pyplot as plt\n",
    "\n",
    "from pyhhmm.gaussian import GaussianHMM\n",
    "from sklearn.model_selection import train_test_split\n",
    "from tqdm import tqdm\n",
    "\n",
    "# Supress warning in hmmlearn\n",
    "warnings.filterwarnings(\"ignore\")\n",
    "\n",
    "# Change plot style to ggplot for better visualization\n",
    "plt.style.use('ggplot')\n"
   ]
  },
  {
   "cell_type": "markdown",
   "id": "8943e030",
   "metadata": {},
   "source": [
    "#### Futures Class"
   ]
  },
  {
   "cell_type": "code",
   "execution_count": 2,
   "id": "0ecd811c",
   "metadata": {},
   "outputs": [],
   "source": [
    "class FuturesProduct():\n",
    "    def __init__(self, symbol, start_date, end_date):\n",
    "        self.symbol = symbol\n",
    "        self.start_date = start_date\n",
    "        self.end_date = end_date\n",
    "        self.get_data()\n",
    "        self.log_returns()\n",
    "\n",
    "    def get_data(self):\n",
    "        futures = yf.download(self.symbol, self.start_date, self.end_date)\n",
    "        futures.rename(columns = {\"Adj Close\" : \"price\"}, inplace = True)\n",
    "        self.data = futures\n",
    "        return futures\n",
    "    \n",
    "    def log_returns(self):\n",
    "        self.data[\"log_returns\"] = np.log(self.data.price / self.data.price.shift(1))  \n",
    "        \n",
    "    def plot_prices(self):\n",
    "        self.data[\"Adj Close\"].plot(figsize = (12,8), color = \"blue\")\n",
    "        plt.title(\"Price Chart: {}\".format(self.symbol), fontsize = 15) \n",
    "        "
   ]
  },
  {
   "cell_type": "markdown",
   "id": "e86e6547",
   "metadata": {},
   "source": [
    "#### Instrument Observation"
   ]
  },
  {
   "cell_type": "code",
   "execution_count": 3,
   "id": "7e9cbd1b",
   "metadata": {},
   "outputs": [
    {
     "name": "stdout",
     "output_type": "stream",
     "text": [
      "[*********************100%***********************]  1 of 1 completed\n"
     ]
    }
   ],
   "source": [
    "es = FuturesProduct(\"ES=F\", \"2017-01-01\", \"2022-12-31\")"
   ]
  },
  {
   "cell_type": "code",
   "execution_count": 4,
   "id": "6e0595cb",
   "metadata": {},
   "outputs": [
    {
     "name": "stdout",
     "output_type": "stream",
     "text": [
      "[*********************100%***********************]  1 of 1 completed\n"
     ]
    },
    {
     "data": {
      "text/html": [
       "<div>\n",
       "<style scoped>\n",
       "    .dataframe tbody tr th:only-of-type {\n",
       "        vertical-align: middle;\n",
       "    }\n",
       "\n",
       "    .dataframe tbody tr th {\n",
       "        vertical-align: top;\n",
       "    }\n",
       "\n",
       "    .dataframe thead th {\n",
       "        text-align: right;\n",
       "    }\n",
       "</style>\n",
       "<table border=\"1\" class=\"dataframe\">\n",
       "  <thead>\n",
       "    <tr style=\"text-align: right;\">\n",
       "      <th></th>\n",
       "      <th>Open</th>\n",
       "      <th>High</th>\n",
       "      <th>Low</th>\n",
       "      <th>Close</th>\n",
       "      <th>price</th>\n",
       "      <th>Volume</th>\n",
       "    </tr>\n",
       "    <tr>\n",
       "      <th>Date</th>\n",
       "      <th></th>\n",
       "      <th></th>\n",
       "      <th></th>\n",
       "      <th></th>\n",
       "      <th></th>\n",
       "      <th></th>\n",
       "    </tr>\n",
       "  </thead>\n",
       "  <tbody>\n",
       "    <tr>\n",
       "      <th>2017-01-03 00:00:00-05:00</th>\n",
       "      <td>2240.75</td>\n",
       "      <td>2259.50</td>\n",
       "      <td>2239.50</td>\n",
       "      <td>2252.50</td>\n",
       "      <td>2252.50</td>\n",
       "      <td>1810351</td>\n",
       "    </tr>\n",
       "    <tr>\n",
       "      <th>2017-01-04 00:00:00-05:00</th>\n",
       "      <td>2252.75</td>\n",
       "      <td>2267.25</td>\n",
       "      <td>2251.00</td>\n",
       "      <td>2264.25</td>\n",
       "      <td>2264.25</td>\n",
       "      <td>1404875</td>\n",
       "    </tr>\n",
       "    <tr>\n",
       "      <th>2017-01-05 00:00:00-05:00</th>\n",
       "      <td>2264.50</td>\n",
       "      <td>2266.00</td>\n",
       "      <td>2254.00</td>\n",
       "      <td>2264.25</td>\n",
       "      <td>2264.25</td>\n",
       "      <td>1324035</td>\n",
       "    </tr>\n",
       "    <tr>\n",
       "      <th>2017-01-06 00:00:00-05:00</th>\n",
       "      <td>2264.25</td>\n",
       "      <td>2277.00</td>\n",
       "      <td>2258.25</td>\n",
       "      <td>2271.50</td>\n",
       "      <td>2271.50</td>\n",
       "      <td>1551007</td>\n",
       "    </tr>\n",
       "    <tr>\n",
       "      <th>2017-01-09 00:00:00-05:00</th>\n",
       "      <td>2271.25</td>\n",
       "      <td>2275.25</td>\n",
       "      <td>2263.50</td>\n",
       "      <td>2265.00</td>\n",
       "      <td>2265.00</td>\n",
       "      <td>1025182</td>\n",
       "    </tr>\n",
       "    <tr>\n",
       "      <th>...</th>\n",
       "      <td>...</td>\n",
       "      <td>...</td>\n",
       "      <td>...</td>\n",
       "      <td>...</td>\n",
       "      <td>...</td>\n",
       "      <td>...</td>\n",
       "    </tr>\n",
       "    <tr>\n",
       "      <th>2022-12-23 00:00:00-05:00</th>\n",
       "      <td>3850.00</td>\n",
       "      <td>3872.50</td>\n",
       "      <td>3821.25</td>\n",
       "      <td>3869.75</td>\n",
       "      <td>3869.75</td>\n",
       "      <td>1374913</td>\n",
       "    </tr>\n",
       "    <tr>\n",
       "      <th>2022-12-27 00:00:00-05:00</th>\n",
       "      <td>3878.00</td>\n",
       "      <td>3900.50</td>\n",
       "      <td>3837.25</td>\n",
       "      <td>3855.00</td>\n",
       "      <td>3855.00</td>\n",
       "      <td>1006414</td>\n",
       "    </tr>\n",
       "    <tr>\n",
       "      <th>2022-12-28 00:00:00-05:00</th>\n",
       "      <td>3858.00</td>\n",
       "      <td>3875.00</td>\n",
       "      <td>3804.50</td>\n",
       "      <td>3807.50</td>\n",
       "      <td>3807.50</td>\n",
       "      <td>1282810</td>\n",
       "    </tr>\n",
       "    <tr>\n",
       "      <th>2022-12-29 00:00:00-05:00</th>\n",
       "      <td>3811.00</td>\n",
       "      <td>3882.75</td>\n",
       "      <td>3806.25</td>\n",
       "      <td>3871.75</td>\n",
       "      <td>3871.75</td>\n",
       "      <td>1146984</td>\n",
       "    </tr>\n",
       "    <tr>\n",
       "      <th>2022-12-30 00:00:00-05:00</th>\n",
       "      <td>3869.75</td>\n",
       "      <td>3871.00</td>\n",
       "      <td>3821.50</td>\n",
       "      <td>3861.00</td>\n",
       "      <td>3861.00</td>\n",
       "      <td>1401810</td>\n",
       "    </tr>\n",
       "  </tbody>\n",
       "</table>\n",
       "<p>1512 rows × 6 columns</p>\n",
       "</div>"
      ],
      "text/plain": [
       "                              Open     High      Low    Close    price  \\\n",
       "Date                                                                     \n",
       "2017-01-03 00:00:00-05:00  2240.75  2259.50  2239.50  2252.50  2252.50   \n",
       "2017-01-04 00:00:00-05:00  2252.75  2267.25  2251.00  2264.25  2264.25   \n",
       "2017-01-05 00:00:00-05:00  2264.50  2266.00  2254.00  2264.25  2264.25   \n",
       "2017-01-06 00:00:00-05:00  2264.25  2277.00  2258.25  2271.50  2271.50   \n",
       "2017-01-09 00:00:00-05:00  2271.25  2275.25  2263.50  2265.00  2265.00   \n",
       "...                            ...      ...      ...      ...      ...   \n",
       "2022-12-23 00:00:00-05:00  3850.00  3872.50  3821.25  3869.75  3869.75   \n",
       "2022-12-27 00:00:00-05:00  3878.00  3900.50  3837.25  3855.00  3855.00   \n",
       "2022-12-28 00:00:00-05:00  3858.00  3875.00  3804.50  3807.50  3807.50   \n",
       "2022-12-29 00:00:00-05:00  3811.00  3882.75  3806.25  3871.75  3871.75   \n",
       "2022-12-30 00:00:00-05:00  3869.75  3871.00  3821.50  3861.00  3861.00   \n",
       "\n",
       "                            Volume  \n",
       "Date                                \n",
       "2017-01-03 00:00:00-05:00  1810351  \n",
       "2017-01-04 00:00:00-05:00  1404875  \n",
       "2017-01-05 00:00:00-05:00  1324035  \n",
       "2017-01-06 00:00:00-05:00  1551007  \n",
       "2017-01-09 00:00:00-05:00  1025182  \n",
       "...                            ...  \n",
       "2022-12-23 00:00:00-05:00  1374913  \n",
       "2022-12-27 00:00:00-05:00  1006414  \n",
       "2022-12-28 00:00:00-05:00  1282810  \n",
       "2022-12-29 00:00:00-05:00  1146984  \n",
       "2022-12-30 00:00:00-05:00  1401810  \n",
       "\n",
       "[1512 rows x 6 columns]"
      ]
     },
     "execution_count": 4,
     "metadata": {},
     "output_type": "execute_result"
    }
   ],
   "source": [
    "es.get_data()"
   ]
  },
  {
   "cell_type": "code",
   "execution_count": 5,
   "id": "558424a5",
   "metadata": {},
   "outputs": [],
   "source": [
    "es.log_returns()"
   ]
  },
  {
   "cell_type": "code",
   "execution_count": 6,
   "id": "b29ea107",
   "metadata": {},
   "outputs": [
    {
     "data": {
      "text/plain": [
       "<AxesSubplot: xlabel='Date'>"
      ]
     },
     "execution_count": 6,
     "metadata": {},
     "output_type": "execute_result"
    },
    {
     "data": {
      "image/png": "[encoded data removed]",
      "text/plain": [
       "<Figure size 640x480 with 1 Axes>"
      ]
     },
     "metadata": {},
     "output_type": "display_data"
    }
   ],
   "source": [
    "es.data.price.plot()"
   ]
  },
  {
   "cell_type": "code",
   "execution_count": 7,
   "id": "cfbdc10c",
   "metadata": {},
   "outputs": [
    {
     "data": {
      "text/plain": [
       "<AxesSubplot: xlabel='Date'>"
      ]
     },
     "execution_count": 7,
     "metadata": {},
     "output_type": "execute_result"
    },
    {
     "data": {
      "image/png": "[encoded data removed]",
      "text/plain": [
       "<Figure size 640x480 with 1 Axes>"
      ]
     },
     "metadata": {},
     "output_type": "display_data"
    }
   ],
   "source": [
    "es.data.log_returns.plot()"
   ]
  },
  {
   "cell_type": "code",
   "execution_count": 8,
   "id": "a622809f",
   "metadata": {},
   "outputs": [
    {
     "data": {
      "text/plain": [
       "<AxesSubplot: >"
      ]
     },
     "execution_count": 8,
     "metadata": {},
     "output_type": "execute_result"
    },
    {
     "data": {
      "image/png": "[encoded data removed]",
      "text/plain": [
       "<Figure size 640x480 with 1 Axes>"
      ]
     },
     "metadata": {},
     "output_type": "display_data"
    }
   ],
   "source": [
    "es.data.log_returns.hist(bins = 100)"
   ]
  },
  {
   "cell_type": "markdown",
   "id": "1799e8b6",
   "metadata": {},
   "source": [
    "#### Hidden Markov Model Learning"
   ]
  },
  {
   "cell_type": "code",
   "execution_count": 9,
   "id": "40e7ed42",
   "metadata": {},
   "outputs": [
    {
     "name": "stdout",
     "output_type": "stream",
     "text": [
      "[*********************100%***********************]  1 of 1 completed\n"
     ]
    }
   ],
   "source": [
    "start_date = \"2017-01-01\"\n",
    "end_date = \"2022-12-31\"\n",
    "symbol = \"ES=F\"\n",
    "futures = yf.download(symbol, start_date, end_date)\n",
    "df = futures.copy()"
   ]
  },
  {
   "cell_type": "code",
   "execution_count": 10,
   "id": "fe971d63",
   "metadata": {},
   "outputs": [
    {
     "data": {
      "text/html": [
       "<div>\n",
       "<style scoped>\n",
       "    .dataframe tbody tr th:only-of-type {\n",
       "        vertical-align: middle;\n",
       "    }\n",
       "\n",
       "    .dataframe tbody tr th {\n",
       "        vertical-align: top;\n",
       "    }\n",
       "\n",
       "    .dataframe thead th {\n",
       "        text-align: right;\n",
       "    }\n",
       "</style>\n",
       "<table border=\"1\" class=\"dataframe\">\n",
       "  <thead>\n",
       "    <tr style=\"text-align: right;\">\n",
       "      <th></th>\n",
       "      <th>Open</th>\n",
       "      <th>High</th>\n",
       "      <th>Low</th>\n",
       "      <th>Close</th>\n",
       "      <th>Adj Close</th>\n",
       "      <th>Volume</th>\n",
       "    </tr>\n",
       "    <tr>\n",
       "      <th>Date</th>\n",
       "      <th></th>\n",
       "      <th></th>\n",
       "      <th></th>\n",
       "      <th></th>\n",
       "      <th></th>\n",
       "      <th></th>\n",
       "    </tr>\n",
       "  </thead>\n",
       "  <tbody>\n",
       "    <tr>\n",
       "      <th>2017-01-03 00:00:00-05:00</th>\n",
       "      <td>2240.75</td>\n",
       "      <td>2259.50</td>\n",
       "      <td>2239.50</td>\n",
       "      <td>2252.50</td>\n",
       "      <td>2252.50</td>\n",
       "      <td>1810351</td>\n",
       "    </tr>\n",
       "    <tr>\n",
       "      <th>2017-01-04 00:00:00-05:00</th>\n",
       "      <td>2252.75</td>\n",
       "      <td>2267.25</td>\n",
       "      <td>2251.00</td>\n",
       "      <td>2264.25</td>\n",
       "      <td>2264.25</td>\n",
       "      <td>1404875</td>\n",
       "    </tr>\n",
       "    <tr>\n",
       "      <th>2017-01-05 00:00:00-05:00</th>\n",
       "      <td>2264.50</td>\n",
       "      <td>2266.00</td>\n",
       "      <td>2254.00</td>\n",
       "      <td>2264.25</td>\n",
       "      <td>2264.25</td>\n",
       "      <td>1324035</td>\n",
       "    </tr>\n",
       "    <tr>\n",
       "      <th>2017-01-06 00:00:00-05:00</th>\n",
       "      <td>2264.25</td>\n",
       "      <td>2277.00</td>\n",
       "      <td>2258.25</td>\n",
       "      <td>2271.50</td>\n",
       "      <td>2271.50</td>\n",
       "      <td>1551007</td>\n",
       "    </tr>\n",
       "    <tr>\n",
       "      <th>2017-01-09 00:00:00-05:00</th>\n",
       "      <td>2271.25</td>\n",
       "      <td>2275.25</td>\n",
       "      <td>2263.50</td>\n",
       "      <td>2265.00</td>\n",
       "      <td>2265.00</td>\n",
       "      <td>1025182</td>\n",
       "    </tr>\n",
       "    <tr>\n",
       "      <th>...</th>\n",
       "      <td>...</td>\n",
       "      <td>...</td>\n",
       "      <td>...</td>\n",
       "      <td>...</td>\n",
       "      <td>...</td>\n",
       "      <td>...</td>\n",
       "    </tr>\n",
       "    <tr>\n",
       "      <th>2022-12-23 00:00:00-05:00</th>\n",
       "      <td>3850.00</td>\n",
       "      <td>3872.50</td>\n",
       "      <td>3821.25</td>\n",
       "      <td>3869.75</td>\n",
       "      <td>3869.75</td>\n",
       "      <td>1374913</td>\n",
       "    </tr>\n",
       "    <tr>\n",
       "      <th>2022-12-27 00:00:00-05:00</th>\n",
       "      <td>3878.00</td>\n",
       "      <td>3900.50</td>\n",
       "      <td>3837.25</td>\n",
       "      <td>3855.00</td>\n",
       "      <td>3855.00</td>\n",
       "      <td>1006414</td>\n",
       "    </tr>\n",
       "    <tr>\n",
       "      <th>2022-12-28 00:00:00-05:00</th>\n",
       "      <td>3858.00</td>\n",
       "      <td>3875.00</td>\n",
       "      <td>3804.50</td>\n",
       "      <td>3807.50</td>\n",
       "      <td>3807.50</td>\n",
       "      <td>1282810</td>\n",
       "    </tr>\n",
       "    <tr>\n",
       "      <th>2022-12-29 00:00:00-05:00</th>\n",
       "      <td>3811.00</td>\n",
       "      <td>3882.75</td>\n",
       "      <td>3806.25</td>\n",
       "      <td>3871.75</td>\n",
       "      <td>3871.75</td>\n",
       "      <td>1146984</td>\n",
       "    </tr>\n",
       "    <tr>\n",
       "      <th>2022-12-30 00:00:00-05:00</th>\n",
       "      <td>3869.75</td>\n",
       "      <td>3871.00</td>\n",
       "      <td>3821.50</td>\n",
       "      <td>3861.00</td>\n",
       "      <td>3861.00</td>\n",
       "      <td>1401810</td>\n",
       "    </tr>\n",
       "  </tbody>\n",
       "</table>\n",
       "<p>1512 rows × 6 columns</p>\n",
       "</div>"
      ],
      "text/plain": [
       "                              Open     High      Low    Close  Adj Close  \\\n",
       "Date                                                                       \n",
       "2017-01-03 00:00:00-05:00  2240.75  2259.50  2239.50  2252.50    2252.50   \n",
       "2017-01-04 00:00:00-05:00  2252.75  2267.25  2251.00  2264.25    2264.25   \n",
       "2017-01-05 00:00:00-05:00  2264.50  2266.00  2254.00  2264.25    2264.25   \n",
       "2017-01-06 00:00:00-05:00  2264.25  2277.00  2258.25  2271.50    2271.50   \n",
       "2017-01-09 00:00:00-05:00  2271.25  2275.25  2263.50  2265.00    2265.00   \n",
       "...                            ...      ...      ...      ...        ...   \n",
       "2022-12-23 00:00:00-05:00  3850.00  3872.50  3821.25  3869.75    3869.75   \n",
       "2022-12-27 00:00:00-05:00  3878.00  3900.50  3837.25  3855.00    3855.00   \n",
       "2022-12-28 00:00:00-05:00  3858.00  3875.00  3804.50  3807.50    3807.50   \n",
       "2022-12-29 00:00:00-05:00  3811.00  3882.75  3806.25  3871.75    3871.75   \n",
       "2022-12-30 00:00:00-05:00  3869.75  3871.00  3821.50  3861.00    3861.00   \n",
       "\n",
       "                            Volume  \n",
       "Date                                \n",
       "2017-01-03 00:00:00-05:00  1810351  \n",
       "2017-01-04 00:00:00-05:00  1404875  \n",
       "2017-01-05 00:00:00-05:00  1324035  \n",
       "2017-01-06 00:00:00-05:00  1551007  \n",
       "2017-01-09 00:00:00-05:00  1025182  \n",
       "...                            ...  \n",
       "2022-12-23 00:00:00-05:00  1374913  \n",
       "2022-12-27 00:00:00-05:00  1006414  \n",
       "2022-12-28 00:00:00-05:00  1282810  \n",
       "2022-12-29 00:00:00-05:00  1146984  \n",
       "2022-12-30 00:00:00-05:00  1401810  \n",
       "\n",
       "[1512 rows x 6 columns]"
      ]
     },
     "execution_count": 10,
     "metadata": {},
     "output_type": "execute_result"
    }
   ],
   "source": [
    "df"
   ]
  },
  {
   "cell_type": "code",
   "execution_count": 11,
   "id": "b0fe5615",
   "metadata": {},
   "outputs": [],
   "source": [
    "df[\"Returns\"] = (df[\"Adj Close\"] / df[\"Adj Close\"].shift(1)) - 1\n",
    "df[\"Volatility\"] = (df[\"High\"] / df[\"Low\"]) - 1\n",
    "df.dropna(inplace = True)"
   ]
  },
  {
   "cell_type": "code",
   "execution_count": 12,
   "id": "6b084fa7",
   "metadata": {},
   "outputs": [
    {
     "data": {
      "text/html": [
       "<div>\n",
       "<style scoped>\n",
       "    .dataframe tbody tr th:only-of-type {\n",
       "        vertical-align: middle;\n",
       "    }\n",
       "\n",
       "    .dataframe tbody tr th {\n",
       "        vertical-align: top;\n",
       "    }\n",
       "\n",
       "    .dataframe thead th {\n",
       "        text-align: right;\n",
       "    }\n",
       "</style>\n",
       "<table border=\"1\" class=\"dataframe\">\n",
       "  <thead>\n",
       "    <tr style=\"text-align: right;\">\n",
       "      <th></th>\n",
       "      <th>Open</th>\n",
       "      <th>High</th>\n",
       "      <th>Low</th>\n",
       "      <th>Close</th>\n",
       "      <th>Adj Close</th>\n",
       "      <th>Volume</th>\n",
       "      <th>Returns</th>\n",
       "      <th>Volatility</th>\n",
       "    </tr>\n",
       "    <tr>\n",
       "      <th>Date</th>\n",
       "      <th></th>\n",
       "      <th></th>\n",
       "      <th></th>\n",
       "      <th></th>\n",
       "      <th></th>\n",
       "      <th></th>\n",
       "      <th></th>\n",
       "      <th></th>\n",
       "    </tr>\n",
       "  </thead>\n",
       "  <tbody>\n",
       "    <tr>\n",
       "      <th>2017-01-04 00:00:00-05:00</th>\n",
       "      <td>2252.75</td>\n",
       "      <td>2267.25</td>\n",
       "      <td>2251.00</td>\n",
       "      <td>2264.25</td>\n",
       "      <td>2264.25</td>\n",
       "      <td>1404875</td>\n",
       "      <td>0.005216</td>\n",
       "      <td>0.007219</td>\n",
       "    </tr>\n",
       "    <tr>\n",
       "      <th>2017-01-05 00:00:00-05:00</th>\n",
       "      <td>2264.50</td>\n",
       "      <td>2266.00</td>\n",
       "      <td>2254.00</td>\n",
       "      <td>2264.25</td>\n",
       "      <td>2264.25</td>\n",
       "      <td>1324035</td>\n",
       "      <td>0.000000</td>\n",
       "      <td>0.005324</td>\n",
       "    </tr>\n",
       "    <tr>\n",
       "      <th>2017-01-06 00:00:00-05:00</th>\n",
       "      <td>2264.25</td>\n",
       "      <td>2277.00</td>\n",
       "      <td>2258.25</td>\n",
       "      <td>2271.50</td>\n",
       "      <td>2271.50</td>\n",
       "      <td>1551007</td>\n",
       "      <td>0.003202</td>\n",
       "      <td>0.008303</td>\n",
       "    </tr>\n",
       "    <tr>\n",
       "      <th>2017-01-09 00:00:00-05:00</th>\n",
       "      <td>2271.25</td>\n",
       "      <td>2275.25</td>\n",
       "      <td>2263.50</td>\n",
       "      <td>2265.00</td>\n",
       "      <td>2265.00</td>\n",
       "      <td>1025182</td>\n",
       "      <td>-0.002862</td>\n",
       "      <td>0.005191</td>\n",
       "    </tr>\n",
       "    <tr>\n",
       "      <th>2017-01-10 00:00:00-05:00</th>\n",
       "      <td>2264.50</td>\n",
       "      <td>2274.00</td>\n",
       "      <td>2259.50</td>\n",
       "      <td>2263.75</td>\n",
       "      <td>2263.75</td>\n",
       "      <td>1304523</td>\n",
       "      <td>-0.000552</td>\n",
       "      <td>0.006417</td>\n",
       "    </tr>\n",
       "    <tr>\n",
       "      <th>...</th>\n",
       "      <td>...</td>\n",
       "      <td>...</td>\n",
       "      <td>...</td>\n",
       "      <td>...</td>\n",
       "      <td>...</td>\n",
       "      <td>...</td>\n",
       "      <td>...</td>\n",
       "      <td>...</td>\n",
       "    </tr>\n",
       "    <tr>\n",
       "      <th>2022-12-23 00:00:00-05:00</th>\n",
       "      <td>3850.00</td>\n",
       "      <td>3872.50</td>\n",
       "      <td>3821.25</td>\n",
       "      <td>3869.75</td>\n",
       "      <td>3869.75</td>\n",
       "      <td>1374913</td>\n",
       "      <td>0.005326</td>\n",
       "      <td>0.013412</td>\n",
       "    </tr>\n",
       "    <tr>\n",
       "      <th>2022-12-27 00:00:00-05:00</th>\n",
       "      <td>3878.00</td>\n",
       "      <td>3900.50</td>\n",
       "      <td>3837.25</td>\n",
       "      <td>3855.00</td>\n",
       "      <td>3855.00</td>\n",
       "      <td>1006414</td>\n",
       "      <td>-0.003812</td>\n",
       "      <td>0.016483</td>\n",
       "    </tr>\n",
       "    <tr>\n",
       "      <th>2022-12-28 00:00:00-05:00</th>\n",
       "      <td>3858.00</td>\n",
       "      <td>3875.00</td>\n",
       "      <td>3804.50</td>\n",
       "      <td>3807.50</td>\n",
       "      <td>3807.50</td>\n",
       "      <td>1282810</td>\n",
       "      <td>-0.012322</td>\n",
       "      <td>0.018531</td>\n",
       "    </tr>\n",
       "    <tr>\n",
       "      <th>2022-12-29 00:00:00-05:00</th>\n",
       "      <td>3811.00</td>\n",
       "      <td>3882.75</td>\n",
       "      <td>3806.25</td>\n",
       "      <td>3871.75</td>\n",
       "      <td>3871.75</td>\n",
       "      <td>1146984</td>\n",
       "      <td>0.016875</td>\n",
       "      <td>0.020099</td>\n",
       "    </tr>\n",
       "    <tr>\n",
       "      <th>2022-12-30 00:00:00-05:00</th>\n",
       "      <td>3869.75</td>\n",
       "      <td>3871.00</td>\n",
       "      <td>3821.50</td>\n",
       "      <td>3861.00</td>\n",
       "      <td>3861.00</td>\n",
       "      <td>1401810</td>\n",
       "      <td>-0.002777</td>\n",
       "      <td>0.012953</td>\n",
       "    </tr>\n",
       "  </tbody>\n",
       "</table>\n",
       "<p>1511 rows × 8 columns</p>\n",
       "</div>"
      ],
      "text/plain": [
       "                              Open     High      Low    Close  Adj Close  \\\n",
       "Date                                                                       \n",
       "2017-01-04 00:00:00-05:00  2252.75  2267.25  2251.00  2264.25    2264.25   \n",
       "2017-01-05 00:00:00-05:00  2264.50  2266.00  2254.00  2264.25    2264.25   \n",
       "2017-01-06 00:00:00-05:00  2264.25  2277.00  2258.25  2271.50    2271.50   \n",
       "2017-01-09 00:00:00-05:00  2271.25  2275.25  2263.50  2265.00    2265.00   \n",
       "2017-01-10 00:00:00-05:00  2264.50  2274.00  2259.50  2263.75    2263.75   \n",
       "...                            ...      ...      ...      ...        ...   \n",
       "2022-12-23 00:00:00-05:00  3850.00  3872.50  3821.25  3869.75    3869.75   \n",
       "2022-12-27 00:00:00-05:00  3878.00  3900.50  3837.25  3855.00    3855.00   \n",
       "2022-12-28 00:00:00-05:00  3858.00  3875.00  3804.50  3807.50    3807.50   \n",
       "2022-12-29 00:00:00-05:00  3811.00  3882.75  3806.25  3871.75    3871.75   \n",
       "2022-12-30 00:00:00-05:00  3869.75  3871.00  3821.50  3861.00    3861.00   \n",
       "\n",
       "                            Volume   Returns  Volatility  \n",
       "Date                                                      \n",
       "2017-01-04 00:00:00-05:00  1404875  0.005216    0.007219  \n",
       "2017-01-05 00:00:00-05:00  1324035  0.000000    0.005324  \n",
       "2017-01-06 00:00:00-05:00  1551007  0.003202    0.008303  \n",
       "2017-01-09 00:00:00-05:00  1025182 -0.002862    0.005191  \n",
       "2017-01-10 00:00:00-05:00  1304523 -0.000552    0.006417  \n",
       "...                            ...       ...         ...  \n",
       "2022-12-23 00:00:00-05:00  1374913  0.005326    0.013412  \n",
       "2022-12-27 00:00:00-05:00  1006414 -0.003812    0.016483  \n",
       "2022-12-28 00:00:00-05:00  1282810 -0.012322    0.018531  \n",
       "2022-12-29 00:00:00-05:00  1146984  0.016875    0.020099  \n",
       "2022-12-30 00:00:00-05:00  1401810 -0.002777    0.012953  \n",
       "\n",
       "[1511 rows x 8 columns]"
      ]
     },
     "execution_count": 12,
     "metadata": {},
     "output_type": "execute_result"
    }
   ],
   "source": [
    "df"
   ]
  },
  {
   "cell_type": "code",
   "execution_count": 13,
   "id": "5de09781",
   "metadata": {},
   "outputs": [
    {
     "data": {
      "text/html": [
       "<div>\n",
       "<style scoped>\n",
       "    .dataframe tbody tr th:only-of-type {\n",
       "        vertical-align: middle;\n",
       "    }\n",
       "\n",
       "    .dataframe tbody tr th {\n",
       "        vertical-align: top;\n",
       "    }\n",
       "\n",
       "    .dataframe thead th {\n",
       "        text-align: right;\n",
       "    }\n",
       "</style>\n",
       "<table border=\"1\" class=\"dataframe\">\n",
       "  <thead>\n",
       "    <tr style=\"text-align: right;\">\n",
       "      <th></th>\n",
       "      <th>Returns</th>\n",
       "      <th>Volatility</th>\n",
       "    </tr>\n",
       "    <tr>\n",
       "      <th>Date</th>\n",
       "      <th></th>\n",
       "      <th></th>\n",
       "    </tr>\n",
       "  </thead>\n",
       "  <tbody>\n",
       "    <tr>\n",
       "      <th>2017-01-04 00:00:00-05:00</th>\n",
       "      <td>0.005216</td>\n",
       "      <td>0.007219</td>\n",
       "    </tr>\n",
       "    <tr>\n",
       "      <th>2017-01-05 00:00:00-05:00</th>\n",
       "      <td>0.000000</td>\n",
       "      <td>0.005324</td>\n",
       "    </tr>\n",
       "    <tr>\n",
       "      <th>2017-01-06 00:00:00-05:00</th>\n",
       "      <td>0.003202</td>\n",
       "      <td>0.008303</td>\n",
       "    </tr>\n",
       "    <tr>\n",
       "      <th>2017-01-09 00:00:00-05:00</th>\n",
       "      <td>-0.002862</td>\n",
       "      <td>0.005191</td>\n",
       "    </tr>\n",
       "    <tr>\n",
       "      <th>2017-01-10 00:00:00-05:00</th>\n",
       "      <td>-0.000552</td>\n",
       "      <td>0.006417</td>\n",
       "    </tr>\n",
       "  </tbody>\n",
       "</table>\n",
       "</div>"
      ],
      "text/plain": [
       "                            Returns  Volatility\n",
       "Date                                           \n",
       "2017-01-04 00:00:00-05:00  0.005216    0.007219\n",
       "2017-01-05 00:00:00-05:00  0.000000    0.005324\n",
       "2017-01-06 00:00:00-05:00  0.003202    0.008303\n",
       "2017-01-09 00:00:00-05:00 -0.002862    0.005191\n",
       "2017-01-10 00:00:00-05:00 -0.000552    0.006417"
      ]
     },
     "execution_count": 13,
     "metadata": {},
     "output_type": "execute_result"
    }
   ],
   "source": [
    "# Features for training\n",
    "X_train = df[[\"Returns\", \"Volatility\"]]\n",
    "X_train.head()"
   ]
  },
  {
   "cell_type": "code",
   "execution_count": 14,
   "id": "70e53496",
   "metadata": {},
   "outputs": [
    {
     "data": {
      "text/plain": [
       "(<pyhhmm.gaussian.GaussianHMM at 0x2382f34bcd0>, 10335.347902827856)"
      ]
     },
     "execution_count": 14,
     "metadata": {},
     "output_type": "execute_result"
    }
   ],
   "source": [
    "# Model Training\n",
    "model = GaussianHMM(n_states=4, covariance_type='full', n_emissions=2)\n",
    "model.train([np.array(X_train.values)])"
   ]
  },
  {
   "cell_type": "code",
   "execution_count": 15,
   "id": "dc5e07e7",
   "metadata": {},
   "outputs": [
    {
     "name": "stdout",
     "output_type": "stream",
     "text": [
      "[0 0 0 0 0 0 0 0 0 0 0 0 0 0 0 0 0 0 0 0 0 0 0 0 0 0 0 0 0 0 0 0 0 0 0 0 0\n",
      " 0 0 0]\n"
     ]
    },
    {
     "data": {
      "text/plain": [
       "1511"
      ]
     },
     "execution_count": 15,
     "metadata": {},
     "output_type": "execute_result"
    }
   ],
   "source": [
    "# Regime State preliminary observations\n",
    "hidden_states = model.predict([X_train.values])[0]\n",
    "print(hidden_states[:40])\n",
    "len(hidden_states)"
   ]
  },
  {
   "cell_type": "code",
   "execution_count": 16,
   "id": "a397512a",
   "metadata": {},
   "outputs": [
    {
     "data": {
      "text/plain": [
       "array([[[ 4.36183181e-05,  1.51886254e-05],\n",
       "        [ 1.51886254e-05,  3.16665293e-05]],\n",
       "\n",
       "       [[ 4.85436860e-04, -2.19653513e-04],\n",
       "        [-2.19653513e-04,  4.02035206e-04]],\n",
       "\n",
       "       [[ 2.35030122e-04,  8.08340091e-05],\n",
       "        [ 8.08340091e-05,  1.05357855e-04]],\n",
       "\n",
       "       [[ 1.46135406e-03,  1.10488001e-03],\n",
       "        [ 1.10488001e-03,  1.16875702e-03]]])"
      ]
     },
     "execution_count": 16,
     "metadata": {},
     "output_type": "execute_result"
    }
   ],
   "source": [
    "# Regime State feature Means and Covariance \n",
    "model.means\n",
    "model.covars"
   ]
  },
  {
   "cell_type": "code",
   "execution_count": 17,
   "id": "1c2b6da3",
   "metadata": {},
   "outputs": [
    {
     "name": "stdout",
     "output_type": "stream",
     "text": [
      "Correct number of rows:  True\n"
     ]
    }
   ],
   "source": [
    "# Regime State structure to be plotted\n",
    "i = 0\n",
    "regime_state_0 = []\n",
    "regime_state_1 = []\n",
    "regime_state_2 = []\n",
    "regime_state_3 = []\n",
    "prices = df[\"Adj Close\"].values.astype(float)\n",
    "print(\"Correct number of rows: \", len(prices) == len(hidden_states))\n",
    "for s in hidden_states:\n",
    "    if s == 0:\n",
    "        regime_state_0.append(prices[i])\n",
    "        regime_state_1.append(float('nan'))\n",
    "        regime_state_2.append(float('nan'))\n",
    "        regime_state_3.append(float('nan'))\n",
    "    if s == 1:\n",
    "        regime_state_0.append(float('nan'))\n",
    "        regime_state_1.append(prices[i])\n",
    "        regime_state_2.append(float('nan'))\n",
    "        regime_state_3.append(float('nan'))\n",
    "    if s == 2:\n",
    "        regime_state_0.append(float('nan'))\n",
    "        regime_state_1.append(float('nan'))\n",
    "        regime_state_2.append(prices[i])\n",
    "        regime_state_3.append(float('nan'))\n",
    "    if s == 3:\n",
    "        regime_state_0.append(float('nan'))\n",
    "        regime_state_1.append(float('nan'))\n",
    "        regime_state_2.append(float('nan'))\n",
    "        regime_state_3.append(prices[i])\n",
    "    i += 1"
   ]
  },
  {
   "cell_type": "code",
   "execution_count": 18,
   "id": "0c8eac7e",
   "metadata": {},
   "outputs": [
    {
     "data": {
      "image/png": "[encoded data removed]",
      "text/plain": [
       "<Figure size 1800x800 with 1 Axes>"
      ]
     },
     "metadata": {},
     "output_type": "display_data"
    }
   ],
   "source": [
    "# Regime State Chart\n",
    "fig = plt.figure(figsize= (18, 8))\n",
    "plt.plot(regime_state_0, color=\"black\")\n",
    "plt.plot(regime_state_1, color=\"green\")\n",
    "plt.plot(regime_state_2, color=\"orange\")\n",
    "plt.plot(regime_state_3, color=\"red\")\n",
    "plt.show()"
   ]
  },
  {
   "cell_type": "markdown",
   "id": "ccf19665",
   "metadata": {},
   "source": [
    "#### Observation"
   ]
  },
  {
   "cell_type": "markdown",
   "id": "9d53b2b7",
   "metadata": {},
   "source": [
    "Hidden Markov Model has the ability to identify market regime states based on features selected in modeling, such as - Returns and Volatility."
   ]
  }
 ],
 "metadata": {
  "kernelspec": {
   "display_name": "Python 3 (ipykernel)",
   "language": "python",
   "name": "python3"
  },
  "language_info": {
   "codemirror_mode": {
    "name": "ipython",
    "version": 3
   },
   "file_extension": ".py",
   "mimetype": "text/x-python",
   "name": "python",
   "nbconvert_exporter": "python",
   "pygments_lexer": "ipython3",
   "version": "3.9.16"
  }
 },
 "nbformat": 4,
 "nbformat_minor": 5
}
